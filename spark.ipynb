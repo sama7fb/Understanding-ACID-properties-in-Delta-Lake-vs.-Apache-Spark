{
 "cells": [
  {
   "cell_type": "code",
   "execution_count": 1,
   "metadata": {},
   "outputs": [
    {
     "name": "stderr",
     "output_type": "stream",
     "text": [
      "24/04/29 21:52:52 WARN Utils: Your hostname, bhaskara15 resolves to a loopback address: 127.0.1.1; using 172.20.252.160 instead (on interface enp3s0)\n",
      "24/04/29 21:52:52 WARN Utils: Set SPARK_LOCAL_IP if you need to bind to another address\n",
      "Setting default log level to \"WARN\".\n",
      "To adjust logging level use sc.setLogLevel(newLevel). For SparkR, use setLogLevel(newLevel).\n",
      "24/04/29 21:52:53 WARN NativeCodeLoader: Unable to load native-hadoop library for your platform... using builtin-java classes where applicable\n",
      "                                                                                \r"
     ]
    },
    {
     "name": "stdout",
     "output_type": "stream",
     "text": [
      "+-------+-------+\n",
      "|account|balance|\n",
      "+-------+-------+\n",
      "| acc123|    100|\n",
      "| acc456|    200|\n",
      "+-------+-------+\n",
      "\n"
     ]
    }
   ],
   "source": [
    "from pyspark.sql import SparkSession\n",
    "# Initialize SparkSession\n",
    "spark = SparkSession.builder \\\n",
    "    .appName(\"Bank Transactions\") \\\n",
    "    .getOrCreate()\n",
    "\n",
    "# Load the dataset\n",
    "data = [(\"acc123\", 100), (\"acc456\", 200)]\n",
    "columns = [\"account\", \"balance\"]\n",
    "df = spark.createDataFrame(data, columns)\n",
    "\n",
    "# Function to update the balance\n",
    "def update_balance(account, amount):\n",
    "    # Retrieve current balance\n",
    "    current_balance = df.filter(df.account ==\n",
    "account).select(\"balance\").collect()[0][0]\n",
    "    # Update balance\n",
    "    new_balance = current_balance + amount\n",
    "    # Simulate processing delay\n",
    "    import time\n",
    "    time.sleep(2)\n",
    "    # Update dataframe with new balance\n",
    "    df.filter(df.account == account).update({\"balance\": new_balance})\n",
    "\n",
    "# Simulate concurrent transactions\n",
    "from concurrent.futures import ThreadPoolExecutor\n",
    "\n",
    "with ThreadPoolExecutor(max_workers=2) as executor:\n",
    "    executor.submit(update_balance, \"acc123\", 50)\n",
    "    executor.submit(update_balance, \"acc123\", -30)\n",
    "# Display updated dataframe\n",
    "df.show()"
   ]
  },
  {
   "cell_type": "code",
   "execution_count": 5,
   "metadata": {},
   "outputs": [
    {
     "name": "stdout",
     "output_type": "stream",
     "text": [
      "+-------+-------+\n",
      "|account|balance|\n",
      "+-------+-------+\n",
      "| acc123|    100|\n",
      "| acc456|    200|\n",
      "+-------+-------+\n",
      "\n"
     ]
    }
   ],
   "source": [
    "from pyspark.sql import SparkSession\n",
    "\n",
    "# Initialize SparkSession\n",
    "spark = SparkSession.builder \\\n",
    "    .appName(\"Bank Transactions\") \\\n",
    "    .getOrCreate()\n",
    "\n",
    "# Load the dataset\n",
    "data = [(\"acc123\", 100), (\"acc456\", 200)]\n",
    "columns = [\"account\", \"balance\"]\n",
    "df = spark.createDataFrame(data, columns)\n",
    "\n",
    "# Function to transfer funds between accounts\n",
    "def transfer_funds(from_account, to_account, amount):\n",
    "    # Retrieve current balances\n",
    "    from_balance = df.filter(df.account ==\n",
    "from_account).select(\"balance\").collect()[0][0]\n",
    "    to_balance = df.filter(df.account == to_account).select(\"balance\").collect()[0][0]\n",
    "    # Update balances\n",
    "    new_from_balance = from_balance - amount\n",
    "    new_to_balance = to_balance + amount\n",
    "    # Simulate processing delay\n",
    "    import time\n",
    "    time.sleep(2)\n",
    "    # Update dataframe with new balances\n",
    "    df.filter(df.account == from_account).update({\"balance\": new_from_balance})\n",
    "    df.filter(df.account == to_account).update({\"balance\": new_to_balance})\n",
    "\n",
    "# Simulate concurrent transactions\n",
    "from concurrent.futures import ThreadPoolExecutor\n",
    "\n",
    "with ThreadPoolExecutor(max_workers=2) as executor:\n",
    "    executor.submit(transfer_funds, \"acc123\", \"acc456\", 50)\n",
    "    executor.submit(transfer_funds, \"acc456\", \"acc123\", 30)\n",
    "\n",
    "# Display updated dataframe\n",
    "df.show()"
   ]
  },
  {
   "cell_type": "code",
   "execution_count": 6,
   "metadata": {},
   "outputs": [
    {
     "name": "stdout",
     "output_type": "stream",
     "text": [
      "Exception occurred: 'DataFrame' object has no attribute 'update'\n",
      "+-------+-------+\n",
      "|account|balance|\n",
      "+-------+-------+\n",
      "| acc123|    100|\n",
      "| acc456|    200|\n",
      "+-------+-------+\n",
      "\n"
     ]
    }
   ],
   "source": [
    "from pyspark.sql import SparkSession\n",
    "# Initialize SparkSession\n",
    "spark = SparkSession.builder \\\n",
    "    .appName(\"Bank Transactions\") \\\n",
    "    .getOrCreate()\n",
    "\n",
    "# Load the dataset\n",
    "data = [(\"acc123\", 100), (\"acc456\", 200)]\n",
    "columns = [\"account\", \"balance\"]\n",
    "df = spark.createDataFrame(data, columns)\n",
    "\n",
    "# Function to transfer funds between accounts\n",
    "def transfer_funds(from_account, to_account, amount):\n",
    "    # Retrieve current balances\n",
    "    from_balance = df.filter(df.account ==\n",
    "from_account).select(\"balance\").collect()[0][0]\n",
    "    to_balance = df.filter(df.account == to_account).select(\"balance\").collect()[0][0]\n",
    "    # Update balances\n",
    "    new_from_balance = from_balance - amount\n",
    "    new_to_balance = to_balance + amount\n",
    "    # Simulate processing delay\n",
    "    import time\n",
    "    time.sleep(2) # Introduce delay after updating the balance in the first account\n",
    "    # Update dataframe with new balances\n",
    "    df.filter(df.account == from_account).update({\"balance\": new_from_balance})\n",
    "    # Introduce an artificial failure here to simulate a failure after updatingthe first account\n",
    "    # This failure will simulate the scenario where the transaction fails before updating the second account\n",
    "    # For example, a system crash or network failure\n",
    "    raise Exception(\"Simulated failure before updating the second account\")\n",
    "\n",
    "# Simulate a single transaction\n",
    "try:\n",
    "    transfer_funds(\"acc123\", \"acc456\", 50)\n",
    "except Exception as e:\n",
    "    print(\"Exception occurred:\", str(e))\n",
    "    \n",
    "# Display updated dataframe (to show the inconsistent state)\n",
    "df.show()"
   ]
  },
  {
   "cell_type": "code",
   "execution_count": null,
   "metadata": {},
   "outputs": [],
   "source": []
  }
 ],
 "metadata": {
  "kernelspec": {
   "display_name": "Python 3",
   "language": "python",
   "name": "python3"
  },
  "language_info": {
   "codemirror_mode": {
    "name": "ipython",
    "version": 3
   },
   "file_extension": ".py",
   "mimetype": "text/x-python",
   "name": "python",
   "nbconvert_exporter": "python",
   "pygments_lexer": "ipython3",
   "version": "3.10.12"
  }
 },
 "nbformat": 4,
 "nbformat_minor": 2
}
